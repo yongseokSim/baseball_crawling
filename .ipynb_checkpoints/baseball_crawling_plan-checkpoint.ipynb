{
 "cells": [
  {
   "cell_type": "code",
   "execution_count": null,
   "id": "8e6ab40c-2916-43b3-bcd9-7c4f3b09ccc9",
   "metadata": {},
   "outputs": [],
   "source": [
    "#!pip install beautifulsoup4\n",
    "#!pip install schedule"
   ]
  },
  {
   "cell_type": "code",
   "execution_count": 25,
   "id": "01b02b51-9305-4b4e-8451-c168b11c4615",
   "metadata": {},
   "outputs": [],
   "source": [
    "team_to_stadium = {\n",
    "        \"잠실\": \"서울 잠실야구장\",\n",
    "        \"광주\": \"광주 기아 챔피언스 필드\",\n",
    "        \"대구\": \"대구 삼성 라이온즈 파크\",\n",
    "        \"사직\": \"부산 사직야구장\",\n",
    "        \"대전\": \"대전 한화생명 볼 파크\",\n",
    "        \"고척\": \"서울 고척스카이돔\",\n",
    "        \"창원\": \"창원 NC 파크\",\n",
    "        \"문학\": \"인천 SSG 랜더스필드\",\n",
    "        \"수원\": \"수원 KT 위즈 파크\"\n",
    "}"
   ]
  },
  {
   "cell_type": "code",
   "execution_count": 13,
   "id": "44eb8e6a-d924-4496-a0bf-bd0332dcef3f",
   "metadata": {},
   "outputs": [],
   "source": [
    "import mysql.connector\n",
    "from datetime import datetime, timedelta\n",
    "import requests\n",
    "from bs4 import BeautifulSoup\n",
    "import schedule\n",
    "import time"
   ]
  },
  {
   "cell_type": "code",
   "execution_count": 30,
   "id": "e6514bac-b2d6-4bd7-bfcb-5a389c70517e",
   "metadata": {},
   "outputs": [
    {
     "name": "stdout",
     "output_type": "stream",
     "text": [
      "==== 3월 30일 경기 정보 시작 ====\n",
      "\n",
      "팀: 삼성 vs 두산, 경기장: 서울 잠실야구장, 날짜: 2025-03-30\n",
      "팀: SSG vs 키움, 경기장: 서울 고척스카이돔, 날짜: 2025-03-30\n",
      "팀: KIA vs 한화, 경기장: 대전 한화생명 볼 파크, 날짜: 2025-03-30\n",
      "팀: KT vs 롯데, 경기장: 부산 사직야구장, 날짜: 2025-03-30\n",
      "팀: LG vs NC, 경기장: 창원 NC 파크, 날짜: 2025-03-30\n"
     ]
    }
   ],
   "source": [
    "\n",
    "# MySQL 연결 설정\n",
    "def connect_to_mysql():\n",
    "    conn = mysql.connector.connect(\n",
    "        host=\"localhost\",       \n",
    "        user=\"root\",            \n",
    "        password=\"1234\",        \n",
    "        database=\"baseball\"     \n",
    "    )\n",
    "    return conn, conn.cursor()\n",
    "\n",
    "def job():\n",
    "     #MySQL 연결 재확인\n",
    "    conn, cursor = connect_to_mysql()\n",
    "\n",
    "    # 당일 날짜 가져오기\n",
    "    today = (datetime.today() + timedelta(days=1)).date()\n",
    "    current_day = today.day\n",
    "    current_year = today.year\n",
    "    current_month = today.month\n",
    "\n",
    "    # 날짜에 맞는 URL 가져오기\n",
    "    url = f\"https://statiz.sporki.com/schedule/?year={current_year}&month={current_month}\"\n",
    "    response = requests.get(url)\n",
    "    soup = BeautifulSoup(response.text, \"html.parser\")\n",
    "\n",
    "    print(f\"==== {current_month}월 {current_day}일 경기 정보 시작 ====\\n\")\n",
    "    \n",
    "    # 모든 날짜(span class=\"day\") 태그 찾기\n",
    "    day_elements = soup.find_all(\"span\", class_=\"day\")\n",
    "    \n",
    "    for day_element in day_elements:\n",
    "        game_day = int(day_element.text.strip())\n",
    "        if game_day == current_day:  # 오늘 날짜와 일치하는 경우\n",
    "            parent_td = day_element.find_parent(\"td\")\n",
    "            if parent_td:\n",
    "                games = parent_td.find_all(\"li\")        \n",
    "                for game in games:\n",
    "                    teams = game.find_all(\"span\", class_=\"team\")\n",
    "                    stadium = game.find(\"span\", class_=\"stadium\")\n",
    "                    stadium = stadium.text.strip()\n",
    "                    weather = game.find(\"span\", class_=\"weather\")\n",
    "                    if weather:\n",
    "                        print(f\"{teams[0].text} vs {teams[1].text} - 우천취소\\n\")\n",
    "                        continue\n",
    "                    # stadium 풀네임으로 변경\n",
    "                    stadium = team_to_stadium.get(stadium, \"팀 매칭안됨\")  \n",
    "\n",
    "                    # 날짜 포맷 변경\n",
    "                    print(f'팀: {teams[0].text} vs {teams[1].text}, 경기장: {stadium}, 날짜: {today}')\n",
    "\n",
    "\n",
    "                    # GameResult 데이터 저장\n",
    "                    game_result_query = \"\"\"\n",
    "                    INSERT INTO GameResult (home_team, away_team, game_date, stadium)\n",
    "                    VALUES (%s, %s, %s, %s)\n",
    "                    \"\"\"\n",
    "                    game_result_values = (teams[1].text, teams[0].text, today, stadium)\n",
    "                    try:\n",
    "                        cursor.execute(game_result_query, game_result_values)\n",
    "                        game_result_id = cursor.lastrowid  # 생성된 game_result_id 가져오기\n",
    "                    except mysql.connector.Error as err:\n",
    "                        print(f\"쿼리 실행 중 오류: {err}\")\n",
    "                        # 오류가 발생하면 재연결\n",
    "                        conn, cursor = connect_to_mysql()\n",
    "                        cursor.execute(game_result_query, game_result_values)\n",
    "                        game_result_id = cursor.lastrowid\n",
    "\n",
    "                    # 변경사항 저장\n",
    "                    conn.commit()\n",
    "\n",
    "    # 연결 종료\n",
    "    cursor.close()\n",
    "    conn.close()\n",
    "\n",
    "job()\n"
   ]
  },
  {
   "cell_type": "code",
   "execution_count": 35,
   "id": "75259cb6-d3f4-426d-82f6-b4e61796b3e4",
   "metadata": {},
   "outputs": [
    {
     "name": "stdout",
     "output_type": "stream",
     "text": [
      "실행중..\n",
      "실행중..\n",
      "==== 3월 30일 경기 정보 시작 ====\n",
      "\n",
      "팀[<span class=\"team\" style=\"background-color:#FFFFFF;color:#0061AA;\">삼성</span>, <span class=\"team\" style=\"background-color:#FFFFFF;color:#042071;\">두산</span>], 경기장서울 잠실야구장, 날짜2025-03-30\n",
      "팀[<span class=\"team\" style=\"background-color:#FFFFFF;color:#cf152d;\">SSG</span>, <span class=\"team\" style=\"background-color:#FFFFFF;color:#86001f;\">키움</span>], 경기장서울 고척스카이돔, 날짜2025-03-30\n",
      "팀[<span class=\"team\" style=\"background-color:#FFFFFF;color:#ed1c24;\">KIA</span>, <span class=\"team\" style=\"background-color:#FFFFFF;color:#f37321;\">한화</span>], 경기장대전 한화생명 볼 파크, 날짜2025-03-30\n",
      "팀[<span class=\"team\" style=\"background-color:#FFFFFF;color:#000000;\">KT</span>, <span class=\"team\" style=\"background-color:#FFFFFF;color:#888888;\">롯데</span>], 경기장부산 사직야구장, 날짜2025-03-30\n",
      "팀[<span class=\"team\" style=\"background-color:#FFFFFF;color:#fc1cad;\">LG</span>, <span class=\"team\" style=\"background-color:#FFFFFF;color:#002b69;\">NC</span>], 경기장창원 NC 파크, 날짜2025-03-30\n",
      "실행중..\n",
      "실행중..\n"
     ]
    },
    {
     "ename": "KeyboardInterrupt",
     "evalue": "",
     "output_type": "error",
     "traceback": [
      "\u001b[1;31m---------------------------------------------------------------------------\u001b[0m",
      "\u001b[1;31mKeyboardInterrupt\u001b[0m                         Traceback (most recent call last)",
      "Cell \u001b[1;32mIn[35], line 7\u001b[0m\n\u001b[0;32m      5\u001b[0m \u001b[38;5;28mprint\u001b[39m(\u001b[38;5;124m\"\u001b[39m\u001b[38;5;124m실행중..\u001b[39m\u001b[38;5;124m\"\u001b[39m)\n\u001b[0;32m      6\u001b[0m schedule\u001b[38;5;241m.\u001b[39mrun_pending()  \u001b[38;5;66;03m# 예정된 작업을 확인하고 실행\u001b[39;00m\n\u001b[1;32m----> 7\u001b[0m time\u001b[38;5;241m.\u001b[39msleep(\u001b[38;5;241m60\u001b[39m)\n",
      "\u001b[1;31mKeyboardInterrupt\u001b[0m: "
     ]
    }
   ],
   "source": [
    "# 매일 02시에 job 함수 실행\n",
    "schedule.every().day.at(\"18:14\").do(job)\n",
    "\n",
    "while True:\n",
    "    print(\"실행중..\")\n",
    "    schedule.run_pending()  # 예정된 작업을 확인하고 실행\n",
    "    time.sleep(60)  # 60초마다 확인"
   ]
  }
 ],
 "metadata": {
  "kernelspec": {
   "display_name": "Python 3 (ipykernel)",
   "language": "python",
   "name": "python3"
  },
  "language_info": {
   "codemirror_mode": {
    "name": "ipython",
    "version": 3
   },
   "file_extension": ".py",
   "mimetype": "text/x-python",
   "name": "python",
   "nbconvert_exporter": "python",
   "pygments_lexer": "ipython3",
   "version": "3.12.7"
  }
 },
 "nbformat": 4,
 "nbformat_minor": 5
}
