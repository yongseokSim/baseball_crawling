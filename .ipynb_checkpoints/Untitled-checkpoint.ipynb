{
 "cells": [
  {
   "cell_type": "code",
   "execution_count": 1,
   "id": "eedd541a-d934-43f7-a51e-09e5a45e4608",
   "metadata": {},
   "outputs": [
    {
     "name": "stdout",
     "output_type": "stream",
     "text": [
      "✅ 저장 완료: ./generated_gulim/한화_gulim.png\n",
      "✅ 저장 완료: ./generated_gulim/한_gulim.png\n",
      "✅ 저장 완료: ./generated_gulim/화_gulim.png\n"
     ]
    }
   ],
   "source": [
    "from PIL import Image, ImageDraw, ImageFont\n",
    "import os\n",
    "\n",
    "texts = [\"한화\", \"한\", \"화\"]\n",
    "font_path = \"C:/Windows/Fonts/gulim.ttc\"  # ← Windows용 굴림체 경로\n",
    "output_dir = \"./generated_gulim\"\n",
    "os.makedirs(output_dir, exist_ok=True)\n",
    "\n",
    "for text in texts:\n",
    "    font = ImageFont.truetype(font_path, 64)\n",
    "    img = Image.new(\"RGB\", (300, 100), \"white\")\n",
    "    draw = ImageDraw.Draw(img)\n",
    "    draw.text((10, 10), text, font=font, fill=\"black\")\n",
    "    filename = f\"{output_dir}/{text}_gulim.png\"\n",
    "    img.save(filename)\n",
    "    print(f\"✅ 저장 완료: {filename}\")\n"
   ]
  }
 ],
 "metadata": {
  "kernelspec": {
   "display_name": "Python 3 (ipykernel)",
   "language": "python",
   "name": "python3"
  },
  "language_info": {
   "codemirror_mode": {
    "name": "ipython",
    "version": 3
   },
   "file_extension": ".py",
   "mimetype": "text/x-python",
   "name": "python",
   "nbconvert_exporter": "python",
   "pygments_lexer": "ipython3",
   "version": "3.12.3"
  }
 },
 "nbformat": 4,
 "nbformat_minor": 5
}
